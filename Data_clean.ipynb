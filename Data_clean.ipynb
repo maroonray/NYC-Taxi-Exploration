{
 "cells": [
  {
   "cell_type": "code",
   "execution_count": 1,
   "metadata": {
    "collapsed": true
   },
   "outputs": [],
   "source": [
    "import numpy as np\n",
    "import pandas as pd\n",
    "from pandas.tseries.holiday import USFederalHolidayCalendar\n",
    "from pandas.tseries.offsets import CustomBusinessDay\n",
    "from pandas.tseries.offsets import WeekDay\n",
    "from datetime import datetime\n",
    "import matplotlib.path as mplPath"
   ]
  },
  {
   "cell_type": "code",
   "execution_count": 2,
   "metadata": {
    "collapsed": true
   },
   "outputs": [],
   "source": [
    "GreenRaw = pd.read_csv(\"/Users/LeiYu/Desktop/NYC Taxi/green_tripdata_2016-02.csv\")\n",
    "YelloRaw = pd.read_csv(\"/Users/LeiYu/Desktop/NYC Taxi/yellow_tripdata_2016-02.csv\")\n",
    "#Change the format\n",
    "GreenRaw.lpep_pickup_datetime = pd.to_datetime(GreenRaw.lpep_pickup_datetime, format='%Y/%m/%d %H:%M')\n",
    "GreenRaw['Date']=GreenRaw.lpep_pickup_datetime.dt.date\n",
    "GreenRaw['Time']=GreenRaw.lpep_pickup_datetime.dt.hour\n",
    "YelloRaw.tpep_pickup_datetime = pd.to_datetime(YelloRaw.tpep_pickup_datetime, format='%Y/%m/%d %H:%M')\n",
    "YelloRaw['Date']=YelloRaw.tpep_pickup_datetime.dt.date\n",
    "YelloRaw['Time']=YelloRaw.tpep_pickup_datetime.dt.hour\n",
    "\n",
    "# Add a holiday dummy variable:\n",
    "calendar = USFederalHolidayCalendar()\n",
    "holidays = calendar.holidays(start=GreenRaw.Date.min(), end=GreenRaw.Date.max())\n",
    "weekends=['2016-02-06','2016-02-07','2016-02-13','2016-02-14','2016-02-15','2016-02-20','2016-02-21','2016-02-27','2016-02-28']\n",
    "weekends = pd.to_datetime(np.array(weekends)).date\n",
    "GreenRaw['Weekends&holidays']=((GreenRaw.Date==weekends[0])|(GreenRaw.Date==weekends[1])\n",
    "        |(GreenRaw.Date==weekends[2])|(GreenRaw.Date==weekends[3])\n",
    "        |(GreenRaw.Date==weekends[4])|(GreenRaw.Date==weekends[5])\n",
    "        |(GreenRaw.Date==weekends[6])|(GreenRaw.Date==weekends[7])\n",
    "        |(GreenRaw.Date==weekends[8]))*1\n",
    "YelloRaw['Weekends&holidays']=((YelloRaw.Date==weekends[0])|(YelloRaw.Date==weekends[1])\n",
    "        |(YelloRaw.Date==weekends[2])|(YelloRaw.Date==weekends[3])\n",
    "        |(YelloRaw.Date==weekends[4])|(YelloRaw.Date==weekends[5])\n",
    "        |(YelloRaw.Date==weekends[6])|(YelloRaw.Date==weekends[7])\n",
    "        |(YelloRaw.Date==weekends[8]))*1\n",
    "\n",
    "# Divided hours to different classes:\n",
    "GreenRaw['Dawn']=((GreenRaw.Time>=1) & (GreenRaw.Time<7))*1\n",
    "GreenRaw['MorningRush']=((GreenRaw.Time>=7) & (GreenRaw.Time<=12))*1\n",
    "GreenRaw['Afternoon']=((GreenRaw.Time>12) & (GreenRaw.Time<16))*1\n",
    "GreenRaw['NightRush']=((GreenRaw.Time>=16) & (GreenRaw.Time<=21))*1\n",
    "GreenRaw['Midnight']=((GreenRaw.Time>21)|(GreenRaw.Time<1))*1\n",
    "YelloRaw['Dawn']=((YelloRaw.Time>=1) & (YelloRaw.Time<7))*1\n",
    "YelloRaw['MorningRush']=((YelloRaw.Time>=7) & (YelloRaw.Time<=12))*1\n",
    "YelloRaw['Afternoon']=((YelloRaw.Time>12) & (YelloRaw.Time<16))*1\n",
    "YelloRaw['NightRush']=((YelloRaw.Time>=16) & (YelloRaw.Time<=21))*1\n",
    "YelloRaw['Midnight']=((YelloRaw.Time>21)|(YelloRaw.Time<1))*1"
   ]
  },
  {
   "cell_type": "code",
   "execution_count": 3,
   "metadata": {
    "collapsed": true
   },
   "outputs": [],
   "source": [
    "GreenRaw['Dawn']=((GreenRaw.Time>=1) & (GreenRaw.Time<7))*1\n",
    "GreenRaw['MorningRush']=((GreenRaw.Time>=7) & (GreenRaw.Time<=12))*1\n",
    "GreenRaw['Afternoon']=((GreenRaw.Time>12) & (GreenRaw.Time<16))*1\n",
    "GreenRaw['NightRush']=((GreenRaw.Time>=16) & (GreenRaw.Time<=21))*1\n",
    "GreenRaw['Midnight']=((GreenRaw.Time>21)|(GreenRaw.Time<1))*1\n",
    "YelloRaw['Dawn']=((YelloRaw.Time>=1) & (YelloRaw.Time<7))*1\n",
    "YelloRaw['MorningRush']=((YelloRaw.Time>=7) & (YelloRaw.Time<=12))*1\n",
    "YelloRaw['Afternoon']=((YelloRaw.Time>12) & (YelloRaw.Time<16))*1\n",
    "YelloRaw['NightRush']=((YelloRaw.Time>=16) & (YelloRaw.Time<=21))*1\n",
    "YelloRaw['Midnight']=((YelloRaw.Time>21)|(YelloRaw.Time<1))*1"
   ]
  },
  {
   "cell_type": "code",
   "execution_count": 4,
   "metadata": {
    "collapsed": true
   },
   "outputs": [],
   "source": [
    "JFK = mplPath.Path(np.array([[40.659763, -73.812979],\n",
    "                     [40.665876, -73.793779],\n",
    "                     [40.645081, -73.773133],\n",
    "                     [40.637578, -73.797831]]))\n",
    "\n",
    "LGA = mplPath.Path(np.array([[40.778034, -73.878130],\n",
    "                     [40.769629, -73.856847],\n",
    "                     [40.765627, -73.862485],\n",
    "                     [40.771157, -73.869725],[40.771126, -73.878068]]))\n",
    "EWR = mplPath.Path(np.array([[40.698344, -74.183231],\n",
    "                     [40.695250, -74.171504],\n",
    "                     [40.684811, -74.178556],\n",
    "                     [40.688859, -74.190101]]))\n",
    "UPM = mplPath.Path(np.array([[40.881794,-73.931954],\n",
    "                     [40.875211, -73.907437],\n",
    "                     [40.834599, -73.933940],\n",
    "                     [40.798819, -73.927753],[40.791071, -73.931190],[40.808133, -73.977555]]))\n",
    "MIDM = mplPath.Path(np.array([[40.808133, -73.977555],\n",
    "                     [40.791071, -73.931190],\n",
    "                     [40.755208, -73.949681],\n",
    "                     [40.774812, -74.001028]]))\n",
    "DM = mplPath.Path(np.array([[40.774812, -74.001028],\n",
    "                     [40.755208, -73.949681],\n",
    "                     [40.709420, -73.975916],\n",
    "                     [40.698305, -74.017865],[40.756483, -74.014403]]))\n",
    "LI = mplPath.Path(np.array([[40.793221, -73.911676],\n",
    "                     [40.738196, -73.968847],\n",
    "                     [40.741090, -73.892755],\n",
    "                     [40.774407, -73.890248]]))\n",
    "BL = mplPath.Path(np.array([[40.738771, -73.957590],\n",
    "                     [40.710177, -73.975799],\n",
    "                     [40.687986, -74.058219],\n",
    "                     [40.627212, -73.899553],[40.677705, -73.893062]]))\n",
    "area=[JFK,LGA,EWR,UPM,MIDM,DM,LI,BL]\n",
    "def inarea(lat,long):\n",
    "    point=(lat,long)\n",
    "    loc=[0]*9\n",
    "    k=0\n",
    "    for i in area:\n",
    "        if i.contains_point(point):\n",
    "            loc[k]=1\n",
    "            break\n",
    "        else:\n",
    "            k=k+1\n",
    "    if k==8:\n",
    "        loc[8]=1\n",
    "    return loc"
   ]
  },
  {
   "cell_type": "code",
   "execution_count": 5,
   "metadata": {
    "collapsed": true
   },
   "outputs": [],
   "source": [
    "dfg=list(map(inarea,GreenRaw.Pickup_latitude,GreenRaw.Pickup_longitude))\n",
    "locationname=['JFK','LGA','EWR','UPM','MIDM','DM','LI','BL','OTHERS']\n",
    "dfg=pd.DataFrame(dfg)\n",
    "dfg.columns=locationname\n",
    "GreenSelect=pd.concat([GreenRaw,dfg],axis=1)\n",
    "\n",
    "dfy=list(map(inarea,YelloRaw.pickup_latitude,YelloRaw.pickup_longitude))\n",
    "dfy=pd.DataFrame(dfy)\n",
    "dfy.columns=locationname\n",
    "YellowSelect=pd.concat([YelloRaw,dfy],axis=1)\n"
   ]
  },
  {
   "cell_type": "code",
   "execution_count": 6,
   "metadata": {
    "collapsed": true
   },
   "outputs": [],
   "source": [
    "# Drop unecessary colunm:\n",
    "greendrop=['VendorID', 'lpep_pickup_datetime', 'Lpep_dropoff_datetime',\n",
    "       'Store_and_fwd_flag', 'Pickup_longitude',\n",
    "       'Pickup_latitude', 'Dropoff_longitude', 'Dropoff_latitude', 'Extra',\n",
    "       'MTA_tax', 'Tolls_amount', 'Ehail_fee',\n",
    "       'improvement_surcharge']\n",
    "green=GreenSelect.drop(greendrop,1)\n",
    "yellowdrop=['VendorID','store_and_fwd_flag','pickup_longitude','pickup_latitude','dropoff_longitude',\n",
    "            'dropoff_latitude','tpep_dropoff_datetime','extra','mta_tax',\n",
    "            'tolls_amount','improvement_surcharge','tpep_pickup_datetime','fare_amount']\n",
    "yellow=YellowSelect.drop(yellowdrop,1)"
   ]
  },
  {
   "cell_type": "code",
   "execution_count": null,
   "metadata": {
    "collapsed": true
   },
   "outputs": [],
   "source": [
    "# export the data\n",
    "green.to_csv('green.csv')\n",
    "yellow.to_csv('yellow.csv')"
   ]
  },
  {
   "cell_type": "code",
   "execution_count": null,
   "metadata": {
    "collapsed": true
   },
   "outputs": [],
   "source": [
    "# Concate yellow and green taxi data:\n",
    "green=green.drop('Trip_type ',1)\n",
    "green=green.drop(green.columns[0],1)\n",
    "yellow=yellow.drop(yellow.columns[0],1)\n",
    "columnsname=['RatecodeID','passenger_count','trip_distance','fare_amount',\n",
    "             'tip_amount','total_amount','payment_type','Date',\n",
    "             'Time', 'Weekends&holidays', 'Dawn', 'MorningRush', 'Afternoon',\n",
    "             'NightRush', 'Midnight', 'JFK', 'LGA', 'EWR', 'UPM', 'MIDM', 'DM', 'LI',\n",
    "             'BL', 'OTHERS']\n",
    "green.columns=columnsname\n",
    "yellow=yellow[columnsname]\n",
    "train=pd.concat([yellow,green])"
   ]
  },
  {
   "cell_type": "code",
   "execution_count": null,
   "metadata": {
    "collapsed": true
   },
   "outputs": [],
   "source": [
    "# Export the merged data\n",
    "train.to_csv('mergeby.csv')\n"
   ]
  }
 ],
 "metadata": {
  "anaconda-cloud": {},
  "kernelspec": {
   "display_name": "Python [conda root]",
   "language": "python",
   "name": "conda-root-py"
  },
  "language_info": {
   "codemirror_mode": {
    "name": "ipython",
    "version": 2
   },
   "file_extension": ".py",
   "mimetype": "text/x-python",
   "name": "python",
   "nbconvert_exporter": "python",
   "pygments_lexer": "ipython2",
   "version": "2.7.12"
  }
 },
 "nbformat": 4,
 "nbformat_minor": 1
}
